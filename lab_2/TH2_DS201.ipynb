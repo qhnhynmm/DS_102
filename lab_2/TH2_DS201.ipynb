{
  "cells": [
    {
      "cell_type": "code",
      "execution_count": null,
      "metadata": {
        "id": "QZKwTXkLl3fS"
      },
      "outputs": [],
      "source": [
        "!pip install yacs\n",
        "!pip install SentencePiece\n",
        "!pip install transformers datasets\n",
        "!pip install idx2numpy"
      ]
    },
    {
      "cell_type": "code",
      "execution_count": 10,
      "metadata": {
        "colab": {
          "base_uri": "https://localhost:8080/"
        },
        "id": "8-8Qi13YlpGF",
        "outputId": "a948ea14-8065-49d9-89a5-7894ec64d0f1"
      },
      "outputs": [
        {
          "name": "stdout",
          "output_type": "stream",
          "text": [
            "Cloning into 'BTH1_DS201'...\n",
            "remote: Enumerating objects: 32, done.\u001b[K\n",
            "remote: Counting objects: 100% (32/32), done.\u001b[K\n",
            "remote: Compressing objects: 100% (20/20), done.\u001b[K\n",
            "remote: Total 32 (delta 6), reused 32 (delta 6), pack-reused 0\u001b[K\n",
            "Receiving objects: 100% (32/32), 11.25 MiB | 16.87 MiB/s, done.\n",
            "Resolving deltas: 100% (6/6), done.\n"
          ]
        }
      ],
      "source": [
        "!git clone https://github.com/minhquan6203/DS201"
      ]
    },
    {
      "cell_type": "code",
      "execution_count": 67,
      "metadata": {
        "colab": {
          "base_uri": "https://localhost:8080/"
        },
        "id": "TpBxnAiymA-X",
        "outputId": "741fcd14-9aa7-474b-d2eb-125b29b73aaf"
      },
      "outputs": [
        {
          "name": "stdout",
          "output_type": "stream",
          "text": [
            "INFO:root:Training started...\n",
            "first time training!!!\n",
            "100% 422/422 [00:07<00:00, 53.81it/s]\n",
            "100% 47/47 [00:00<00:00, 69.48it/s]\n",
            "epoch 1/100\n",
            "train loss: 2.0864\n",
            "valid acc: 0.3925 | valid f1: 0.2343 | valid precision: 0.6645 | valid recall: 0.3949\n",
            "saved the best model with accuracy of 0.3925\n",
            "100% 422/422 [00:07<00:00, 54.01it/s]\n",
            "100% 47/47 [00:01<00:00, 42.81it/s]\n",
            "epoch 2/100\n",
            "train loss: 1.8635\n",
            "valid acc: 0.6576 | valid f1: 0.5634 | valid precision: 0.8163 | valid recall: 0.6639\n",
            "saved the best model with accuracy of 0.6576\n",
            "100% 422/422 [00:06<00:00, 60.56it/s]\n",
            "100% 47/47 [00:00<00:00, 68.08it/s]\n",
            "epoch 3/100\n",
            "train loss: 1.6975\n",
            "valid acc: 0.7671 | valid f1: 0.6871 | valid precision: 0.8326 | valid recall: 0.7737\n",
            "saved the best model with accuracy of 0.7671\n",
            "100% 422/422 [00:08<00:00, 49.56it/s]\n",
            "100% 47/47 [00:00<00:00, 67.77it/s]\n",
            "epoch 4/100\n",
            "train loss: 1.6795\n",
            "valid acc: 0.7721 | valid f1: 0.6908 | valid precision: 0.8342 | valid recall: 0.7790\n",
            "saved the best model with accuracy of 0.7721\n",
            "100% 422/422 [00:07<00:00, 57.46it/s]\n",
            "100% 47/47 [00:01<00:00, 44.35it/s]\n",
            "epoch 5/100\n",
            "train loss: 1.6010\n",
            "valid acc: 0.8668 | valid f1: 0.8215 | valid precision: 0.8941 | valid recall: 0.8651\n",
            "saved the best model with accuracy of 0.8668\n",
            "100% 422/422 [00:08<00:00, 50.45it/s]\n",
            "100% 47/47 [00:00<00:00, 66.03it/s]\n",
            "epoch 6/100\n",
            "train loss: 1.5813\n",
            "valid acc: 0.8745 | valid f1: 0.8298 | valid precision: 0.9002 | valid recall: 0.8735\n",
            "saved the best model with accuracy of 0.8745\n",
            "100% 422/422 [00:08<00:00, 49.71it/s]\n",
            "100% 47/47 [00:00<00:00, 64.87it/s]\n",
            "epoch 7/100\n",
            "train loss: 1.5755\n",
            "valid acc: 0.8780 | valid f1: 0.8320 | valid precision: 0.8996 | valid recall: 0.8766\n",
            "saved the best model with accuracy of 0.8780\n",
            "100% 422/422 [00:07<00:00, 58.69it/s]\n",
            "100% 47/47 [00:00<00:00, 73.17it/s]\n",
            "epoch 8/100\n",
            "train loss: 1.5450\n",
            "valid acc: 0.9608 | valid f1: 0.9586 | valid precision: 0.9596 | valid recall: 0.9614\n",
            "saved the best model with accuracy of 0.9608\n",
            "100% 422/422 [00:08<00:00, 49.40it/s]\n",
            "100% 47/47 [00:00<00:00, 69.42it/s]\n",
            "epoch 9/100\n",
            "train loss: 1.4847\n",
            "valid acc: 0.9671 | valid f1: 0.9648 | valid precision: 0.9667 | valid recall: 0.9659\n",
            "saved the best model with accuracy of 0.9671\n",
            "100% 422/422 [00:07<00:00, 53.02it/s]\n",
            "100% 47/47 [00:01<00:00, 42.43it/s]\n",
            "epoch 10/100\n",
            "train loss: 1.4796\n",
            "valid acc: 0.9725 | valid f1: 0.9710 | valid precision: 0.9717 | valid recall: 0.9726\n",
            "saved the best model with accuracy of 0.9725\n",
            "100% 422/422 [00:07<00:00, 53.27it/s]\n",
            "100% 47/47 [00:00<00:00, 71.13it/s]\n",
            "epoch 11/100\n",
            "train loss: 1.4768\n",
            "valid acc: 0.9717 | valid f1: 0.9708 | valid precision: 0.9721 | valid recall: 0.9721\n",
            "100% 422/422 [00:08<00:00, 47.82it/s]\n",
            "100% 47/47 [00:00<00:00, 70.51it/s]\n",
            "epoch 12/100\n",
            "train loss: 1.4742\n",
            "valid acc: 0.9728 | valid f1: 0.9712 | valid precision: 0.9734 | valid recall: 0.9715\n",
            "saved the best model with accuracy of 0.9728\n",
            "100% 422/422 [00:07<00:00, 54.47it/s]\n",
            "100% 47/47 [00:00<00:00, 48.88it/s]\n",
            "epoch 13/100\n",
            "train loss: 1.4726\n",
            "valid acc: 0.9741 | valid f1: 0.9737 | valid precision: 0.9744 | valid recall: 0.9750\n",
            "saved the best model with accuracy of 0.9741\n",
            "100% 422/422 [00:08<00:00, 49.17it/s]\n",
            "100% 47/47 [00:00<00:00, 70.56it/s]\n",
            "epoch 14/100\n",
            "train loss: 1.4723\n",
            "valid acc: 0.9739 | valid f1: 0.9722 | valid precision: 0.9734 | valid recall: 0.9731\n",
            "100% 422/422 [00:08<00:00, 48.55it/s]\n",
            "100% 47/47 [00:00<00:00, 68.54it/s]\n",
            "epoch 15/100\n",
            "train loss: 1.4707\n",
            "valid acc: 0.9744 | valid f1: 0.9737 | valid precision: 0.9740 | valid recall: 0.9757\n",
            "saved the best model with accuracy of 0.9744\n",
            "100% 422/422 [00:07<00:00, 56.63it/s]\n",
            "100% 47/47 [00:00<00:00, 69.28it/s]\n",
            "epoch 16/100\n",
            "train loss: 1.4699\n",
            "valid acc: 0.9768 | valid f1: 0.9759 | valid precision: 0.9762 | valid recall: 0.9776\n",
            "saved the best model with accuracy of 0.9768\n",
            "100% 422/422 [00:08<00:00, 48.91it/s]\n",
            "100% 47/47 [00:00<00:00, 72.50it/s]\n",
            "epoch 17/100\n",
            "train loss: 1.4698\n",
            "valid acc: 0.9780 | valid f1: 0.9760 | valid precision: 0.9775 | valid recall: 0.9764\n",
            "saved the best model with accuracy of 0.9780\n",
            "100% 422/422 [00:08<00:00, 51.96it/s]\n",
            "100% 47/47 [00:01<00:00, 44.00it/s]\n",
            "epoch 18/100\n",
            "train loss: 1.4697\n",
            "valid acc: 0.9747 | valid f1: 0.9738 | valid precision: 0.9751 | valid recall: 0.9747\n",
            "100% 422/422 [00:07<00:00, 54.16it/s]\n",
            "100% 47/47 [00:00<00:00, 67.80it/s]\n",
            "epoch 19/100\n",
            "train loss: 1.4694\n",
            "valid acc: 0.9766 | valid f1: 0.9757 | valid precision: 0.9771 | valid recall: 0.9765\n",
            "100% 422/422 [00:08<00:00, 47.10it/s]\n",
            "100% 47/47 [00:00<00:00, 72.02it/s]\n",
            "epoch 20/100\n",
            "train loss: 1.4687\n",
            "valid acc: 0.9728 | valid f1: 0.9726 | valid precision: 0.9741 | valid recall: 0.9738\n",
            "100% 422/422 [00:07<00:00, 53.07it/s]\n",
            "100% 47/47 [00:01<00:00, 43.20it/s]\n",
            "epoch 21/100\n",
            "train loss: 1.4689\n",
            "valid acc: 0.9774 | valid f1: 0.9761 | valid precision: 0.9770 | valid recall: 0.9772\n",
            "100% 422/422 [00:08<00:00, 49.56it/s]\n",
            "100% 47/47 [00:00<00:00, 66.77it/s]\n",
            "epoch 22/100\n",
            "train loss: 1.4683\n",
            "valid acc: 0.9747 | valid f1: 0.9731 | valid precision: 0.9732 | valid recall: 0.9754\n",
            "early stopping after epoch 22\n",
            "INFO:root:Training complete\n",
            "INFO:root:now evaluate on test data...\n",
            "100% 79/79 [00:00<00:00, 131.38it/s]\n",
            "test acc: 0.9761 | test f1: 0.9760 | test precision: 0.9760 | test recall: 0.9761\n",
            "INFO:root:task done!!!\n"
          ]
        }
      ],
      "source": [
        "!python /content/DS201/TH2/main.py --config /content/DS201/TH2/config/config.yaml"
      ]
    }
  ],
  "metadata": {
    "colab": {
      "provenance": []
    },
    "kernelspec": {
      "display_name": "Python 3",
      "name": "python3"
    },
    "language_info": {
      "name": "python"
    }
  },
  "nbformat": 4,
  "nbformat_minor": 0
}
